{
 "cells": [
  {
   "cell_type": "markdown",
   "metadata": {},
   "source": [
    "# Exporting data\n",
    "\n",
    "There are fundamentally two different data types:\n",
    "\n",
    "- spatially averaged data (as in the `odt` [OOMMF Data Table] file)\n",
    "- spatially resolved data (as in the `omf`, `omv` files)"
   ]
  },
  {
   "cell_type": "markdown",
   "metadata": {},
   "source": [
    "## Access the raw OOMMF output files\n",
    "\n",
    "When Jupyter OOMMF needs a micromagnetic calculation to be carried out, it is writing a `mif` file, and then asks OOMMF to execute that miffile, and export data to the file system.\n",
    "\n",
    "It it thus possible to read the output files from the disk as one would normally with OOMMF. This allows re-use of all existing tools to analyse OOMMF data (including muview, ovf2vtk, ...)\n",
    "\n",
    "Example"
   ]
  },
  {
   "cell_type": "code",
   "execution_count": 1,
   "metadata": {},
   "outputs": [
    {
     "name": "stdout",
     "output_type": "stream",
     "text": [
      "2018/6/26 12:2: Calling OOMMF (example-macrospin/example-macrospin.mif) ... [0.7s]\n"
     ]
    }
   ],
   "source": [
    "import oommfc as oc\n",
    "system = oc.examples.macrospin()\n",
    "td = oc.TimeDriver()\n",
    "td.drive(system, t=0.1e-9, n=5)"
   ]
  },
  {
   "cell_type": "markdown",
   "metadata": {},
   "source": [
    "From the last output line, we can see that the OOMMF data is stored in the directory `example-macrospin`. We can display the content:"
   ]
  },
  {
   "cell_type": "code",
   "execution_count": 2,
   "metadata": {},
   "outputs": [
    {
     "name": "stdout",
     "output_type": "stream",
     "text": [
      "example-macrospin.mif\r\n",
      "example-macrospin.odt\r\n",
      "example-macrospin-Oxs_TimeDriver-Magnetization-00-0000036.omf\r\n",
      "example-macrospin-Oxs_TimeDriver-Magnetization-01-0000066.omf\r\n",
      "example-macrospin-Oxs_TimeDriver-Magnetization-02-0000092.omf\r\n",
      "example-macrospin-Oxs_TimeDriver-Magnetization-03-0000113.omf\r\n",
      "example-macrospin-Oxs_TimeDriver-Magnetization-04-0000130.omf\r\n",
      "m0.omf\r\n"
     ]
    }
   ],
   "source": [
    "!ls example-macrospin/"
   ]
  },
  {
   "cell_type": "markdown",
   "metadata": {},
   "source": [
    "## Exporting the OOMMF Data Table\n",
    "The file `example-macrospin.odt` is automatically read and available as a pandas data table in the `system.dt` object. We can thus use all the export functionality that pandas supports. For example"
   ]
  },
  {
   "cell_type": "code",
   "execution_count": 3,
   "metadata": {},
   "outputs": [
    {
     "data": {
      "text/html": [
       "<div>\n",
       "<style scoped>\n",
       "    .dataframe tbody tr th:only-of-type {\n",
       "        vertical-align: middle;\n",
       "    }\n",
       "\n",
       "    .dataframe tbody tr th {\n",
       "        vertical-align: top;\n",
       "    }\n",
       "\n",
       "    .dataframe thead th {\n",
       "        text-align: right;\n",
       "    }\n",
       "</style>\n",
       "<table border=\"1\" class=\"dataframe\">\n",
       "  <thead>\n",
       "    <tr style=\"text-align: right;\">\n",
       "      <th></th>\n",
       "      <th>E</th>\n",
       "      <th>Ecount</th>\n",
       "      <th>max_dm/dt</th>\n",
       "      <th>dE/dt</th>\n",
       "      <th>deltaE</th>\n",
       "      <th>E_Zeeman</th>\n",
       "      <th>iteration</th>\n",
       "      <th>stage_iteration</th>\n",
       "      <th>stage</th>\n",
       "      <th>mx</th>\n",
       "      <th>my</th>\n",
       "      <th>mz</th>\n",
       "      <th>last_time_step</th>\n",
       "      <th>t</th>\n",
       "    </tr>\n",
       "  </thead>\n",
       "  <tbody>\n",
       "    <tr>\n",
       "      <th>0</th>\n",
       "      <td>-5.033171e-18</td>\n",
       "      <td>217.0</td>\n",
       "      <td>37867.797392</td>\n",
       "      <td>-1.241326e-07</td>\n",
       "      <td>-4.522273e-20</td>\n",
       "      <td>-5.033171e-18</td>\n",
       "      <td>36.0</td>\n",
       "      <td>36.0</td>\n",
       "      <td>0.0</td>\n",
       "      <td>-0.597360</td>\n",
       "      <td>-0.038383</td>\n",
       "      <td>0.801054</td>\n",
       "      <td>3.586075e-13</td>\n",
       "      <td>2.000000e-11</td>\n",
       "    </tr>\n",
       "    <tr>\n",
       "      <th>1</th>\n",
       "      <td>-6.131373e-18</td>\n",
       "      <td>392.0</td>\n",
       "      <td>13822.238704</td>\n",
       "      <td>-1.653875e-08</td>\n",
       "      <td>-6.256125e-21</td>\n",
       "      <td>-6.131373e-18</td>\n",
       "      <td>66.0</td>\n",
       "      <td>29.0</td>\n",
       "      <td>1.0</td>\n",
       "      <td>0.216713</td>\n",
       "      <td>0.027838</td>\n",
       "      <td>0.975838</td>\n",
       "      <td>3.708125e-13</td>\n",
       "      <td>4.000000e-11</td>\n",
       "    </tr>\n",
       "    <tr>\n",
       "      <th>2</th>\n",
       "      <td>-6.266081e-18</td>\n",
       "      <td>543.0</td>\n",
       "      <td>4664.609034</td>\n",
       "      <td>-1.883547e-09</td>\n",
       "      <td>-1.210170e-21</td>\n",
       "      <td>-6.266081e-18</td>\n",
       "      <td>92.0</td>\n",
       "      <td>25.0</td>\n",
       "      <td>2.0</td>\n",
       "      <td>-0.072403</td>\n",
       "      <td>-0.013953</td>\n",
       "      <td>0.997278</td>\n",
       "      <td>6.216520e-13</td>\n",
       "      <td>6.000000e-11</td>\n",
       "    </tr>\n",
       "    <tr>\n",
       "      <th>3</th>\n",
       "      <td>-6.281233e-18</td>\n",
       "      <td>664.0</td>\n",
       "      <td>1577.051840</td>\n",
       "      <td>-2.152969e-10</td>\n",
       "      <td>-2.059347e-22</td>\n",
       "      <td>-6.281233e-18</td>\n",
       "      <td>113.0</td>\n",
       "      <td>20.0</td>\n",
       "      <td>3.0</td>\n",
       "      <td>0.024163</td>\n",
       "      <td>0.006131</td>\n",
       "      <td>0.999689</td>\n",
       "      <td>9.181643e-13</td>\n",
       "      <td>8.000000e-11</td>\n",
       "    </tr>\n",
       "    <tr>\n",
       "      <th>4</th>\n",
       "      <td>-6.282947e-18</td>\n",
       "      <td>761.0</td>\n",
       "      <td>550.439309</td>\n",
       "      <td>-2.622797e-11</td>\n",
       "      <td>-3.440007e-23</td>\n",
       "      <td>-6.282947e-18</td>\n",
       "      <td>130.0</td>\n",
       "      <td>16.0</td>\n",
       "      <td>4.0</td>\n",
       "      <td>-0.008347</td>\n",
       "      <td>-0.002458</td>\n",
       "      <td>0.999962</td>\n",
       "      <td>1.290222e-12</td>\n",
       "      <td>1.000000e-10</td>\n",
       "    </tr>\n",
       "  </tbody>\n",
       "</table>\n",
       "</div>"
      ],
      "text/plain": [
       "              E  Ecount     max_dm/dt         dE/dt        deltaE  \\\n",
       "0 -5.033171e-18   217.0  37867.797392 -1.241326e-07 -4.522273e-20   \n",
       "1 -6.131373e-18   392.0  13822.238704 -1.653875e-08 -6.256125e-21   \n",
       "2 -6.266081e-18   543.0   4664.609034 -1.883547e-09 -1.210170e-21   \n",
       "3 -6.281233e-18   664.0   1577.051840 -2.152969e-10 -2.059347e-22   \n",
       "4 -6.282947e-18   761.0    550.439309 -2.622797e-11 -3.440007e-23   \n",
       "\n",
       "       E_Zeeman  iteration  stage_iteration  stage        mx        my  \\\n",
       "0 -5.033171e-18       36.0             36.0    0.0 -0.597360 -0.038383   \n",
       "1 -6.131373e-18       66.0             29.0    1.0  0.216713  0.027838   \n",
       "2 -6.266081e-18       92.0             25.0    2.0 -0.072403 -0.013953   \n",
       "3 -6.281233e-18      113.0             20.0    3.0  0.024163  0.006131   \n",
       "4 -6.282947e-18      130.0             16.0    4.0 -0.008347 -0.002458   \n",
       "\n",
       "         mz  last_time_step             t  \n",
       "0  0.801054    3.586075e-13  2.000000e-11  \n",
       "1  0.975838    3.708125e-13  4.000000e-11  \n",
       "2  0.997278    6.216520e-13  6.000000e-11  \n",
       "3  0.999689    9.181643e-13  8.000000e-11  \n",
       "4  0.999962    1.290222e-12  1.000000e-10  "
      ]
     },
     "execution_count": 3,
     "metadata": {},
     "output_type": "execute_result"
    }
   ],
   "source": [
    "# display beginning of data table in notebook\n",
    "system.dt.head()"
   ]
  },
  {
   "cell_type": "markdown",
   "metadata": {},
   "source": [
    "### MS Excel, html, latex, json"
   ]
  },
  {
   "cell_type": "code",
   "execution_count": 4,
   "metadata": {},
   "outputs": [],
   "source": [
    "system.dt.to_excel(\"data-odt.xlsx\")"
   ]
  },
  {
   "cell_type": "code",
   "execution_count": 5,
   "metadata": {},
   "outputs": [],
   "source": [
    "system.dt.to_html(\"data-odt.html\")"
   ]
  },
  {
   "cell_type": "code",
   "execution_count": 6,
   "metadata": {},
   "outputs": [],
   "source": [
    "system.dt.to_latex(\"data-odt.tex\")"
   ]
  },
  {
   "cell_type": "code",
   "execution_count": 7,
   "metadata": {},
   "outputs": [],
   "source": [
    "system.dt.to_json(\"data-odt.json\")"
   ]
  },
  {
   "cell_type": "markdown",
   "metadata": {},
   "source": [
    "### Numpy arrays"
   ]
  },
  {
   "cell_type": "markdown",
   "metadata": {},
   "source": [
    "Given a pandas table, we can extract each column as a (Pandas) Series:"
   ]
  },
  {
   "cell_type": "code",
   "execution_count": 10,
   "metadata": {},
   "outputs": [
    {
     "data": {
      "text/plain": [
       "0    2.000000e-11\n",
       "1    4.000000e-11\n",
       "2    6.000000e-11\n",
       "3    8.000000e-11\n",
       "4    1.000000e-10\n",
       "Name: t, dtype: float64"
      ]
     },
     "execution_count": 10,
     "metadata": {},
     "output_type": "execute_result"
    }
   ],
   "source": [
    "t_series = system.dt['t']\n",
    "t_series"
   ]
  },
  {
   "cell_type": "markdown",
   "metadata": {},
   "source": [
    "Or convert this into a numpy array:"
   ]
  },
  {
   "cell_type": "code",
   "execution_count": 11,
   "metadata": {},
   "outputs": [],
   "source": [
    "import numpy as np\n",
    "t_array = np.array(system.dt['t'])\n",
    "mx_array = np.array(system.dt['mx'])"
   ]
  },
  {
   "cell_type": "markdown",
   "metadata": {},
   "source": [
    "for example to plot the data in some custom way:"
   ]
  },
  {
   "cell_type": "code",
   "execution_count": 12,
   "metadata": {},
   "outputs": [
    {
     "data": {
      "text/plain": [
       "[<matplotlib.lines.Line2D at 0x7f84587defd0>]"
      ]
     },
     "execution_count": 12,
     "metadata": {},
     "output_type": "execute_result"
    },
    {
     "data": {
      "image/png": "[encoded data removed]",
      "text/plain": [
       "<Figure size 432x288 with 1 Axes>"
      ]
     },
     "metadata": {},
     "output_type": "display_data"
    }
   ],
   "source": [
    "%matplotlib inline\n",
    "import matplotlib.pyplot as plt\n",
    "fig, axes = plt.subplots()\n",
    "axes.plot(t_array, mx_array)"
   ]
  },
  {
   "cell_type": "markdown",
   "metadata": {},
   "source": [
    "To see which data columns are available in the table, we can use:"
   ]
  },
  {
   "cell_type": "code",
   "execution_count": 13,
   "metadata": {},
   "outputs": [
    {
     "data": {
      "text/plain": [
       "Index(['E', 'Ecount', 'max_dm/dt', 'dE/dt', 'deltaE', 'E_Zeeman', 'iteration',\n",
       "       'stage_iteration', 'stage', 'mx', 'my', 'mz', 'last_time_step', 't'],\n",
       "      dtype='object')"
      ]
     },
     "execution_count": 13,
     "metadata": {},
     "output_type": "execute_result"
    }
   ],
   "source": [
    "system.dt.columns"
   ]
  },
  {
   "cell_type": "markdown",
   "metadata": {},
   "source": [
    "or"
   ]
  },
  {
   "cell_type": "code",
   "execution_count": 14,
   "metadata": {},
   "outputs": [
    {
     "data": {
      "text/plain": [
       "['E',\n",
       " 'Ecount',\n",
       " 'max_dm/dt',\n",
       " 'dE/dt',\n",
       " 'deltaE',\n",
       " 'E_Zeeman',\n",
       " 'iteration',\n",
       " 'stage_iteration',\n",
       " 'stage',\n",
       " 'mx',\n",
       " 'my',\n",
       " 'mz',\n",
       " 'last_time_step',\n",
       " 't']"
      ]
     },
     "execution_count": 14,
     "metadata": {},
     "output_type": "execute_result"
    }
   ],
   "source": [
    "list(system.dt.columns)"
   ]
  }
 ],
 "metadata": {
  "kernelspec": {
   "display_name": "Python 3",
   "language": "python",
   "name": "python3"
  },
  "language_info": {
   "codemirror_mode": {
    "name": "ipython",
    "version": 3
   },
   "file_extension": ".py",
   "mimetype": "text/x-python",
   "name": "python",
   "nbconvert_exporter": "python",
   "pygments_lexer": "ipython3",
   "version": "3.6.5"
  }
 },
 "nbformat": 4,
 "nbformat_minor": 2
}
